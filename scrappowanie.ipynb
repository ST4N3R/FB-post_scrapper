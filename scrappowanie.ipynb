{
 "cells": [
  {
   "cell_type": "code",
   "execution_count": 10,
   "metadata": {},
   "outputs": [],
   "source": [
    "from selenium import webdriver\n",
    "from selenium.webdriver.common.by import By\n",
    "import time"
   ]
  },
  {
   "cell_type": "code",
   "execution_count": 11,
   "metadata": {},
   "outputs": [],
   "source": [
    "url = \"https://mbasic.facebook.com/234Forteca\"\n",
    "login_text = \"staneeeer@gmail.com\"\n",
    "password_text = \"#Jajeczko9\""
   ]
  },
  {
   "cell_type": "code",
   "execution_count": 12,
   "metadata": {},
   "outputs": [],
   "source": [
    "options = webdriver.ChromeOptions()\n",
    "options.add_experimental_option('excludeSwitches', ['enable-logging'])\n",
    "\n",
    "driver = webdriver.Chrome(options=options)\n",
    "\n",
    "driver.get(url)\n",
    "\n",
    "time.sleep(5)"
   ]
  },
  {
   "cell_type": "code",
   "execution_count": 13,
   "metadata": {},
   "outputs": [],
   "source": [
    "login = driver.find_element(By.XPATH, \"/html/body/div/div/div[2]/div/table/tbody/tr/td/div[3]/div/div[2]/form/ul/li[1]/input\")\n",
    "login.send_keys(login_text)\n",
    "\n",
    "password = driver.find_element(By.XPATH, \"/html/body/div/div/div[2]/div/table/tbody/tr/td/div[3]/div/div[2]/form/ul/li[2]/section/input\")\n",
    "password.send_keys(password_text)\n",
    "\n",
    "#Logowanie\n",
    "driver.find_element(By.XPATH, \"/html/body/div/div/div[2]/div/table/tbody/tr/td/div[3]/div/div[2]/form/ul/li[3]/input\").click()\n",
    "\n",
    "time.sleep(3)"
   ]
  },
  {
   "cell_type": "code",
   "execution_count": 14,
   "metadata": {},
   "outputs": [],
   "source": [
    "#Wchodzenie na Oś Czasu\n",
    "driver.find_element(By.XPATH, \"/html/body/div/div/div[2]/div/div[2]/div[1]/div[4]/a[1]\").click()\n",
    "\n",
    "data = driver.find_element(By.XPATH, \"/html/body/div/div/div[2]/div/div[1]/div[3]/div[2]/div/section/article[1]/footer/div[1]/abbr\").get_attribute(\"innerHTML\")\n",
    "print(data)\n"
   ]
  }
 ],
 "metadata": {
  "kernelspec": {
   "display_name": "Python 3",
   "language": "python",
   "name": "python3"
  },
  "language_info": {
   "codemirror_mode": {
    "name": "ipython",
    "version": 3
   },
   "file_extension": ".py",
   "mimetype": "text/x-python",
   "name": "python",
   "nbconvert_exporter": "python",
   "pygments_lexer": "ipython3",
   "version": "3.10.0"
  }
 },
 "nbformat": 4,
 "nbformat_minor": 2
}
