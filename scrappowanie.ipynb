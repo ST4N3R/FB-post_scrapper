{
 "cells": [
  {
   "cell_type": "code",
   "execution_count": 74,
   "metadata": {},
   "outputs": [],
   "source": [
    "from bs4 import BeautifulSoup\n",
    "import requests"
   ]
  },
  {
   "cell_type": "code",
   "execution_count": 75,
   "metadata": {},
   "outputs": [],
   "source": [
    "url = \"https://www.facebook.com/234Forteca/posts/pfbid0EjjpU413wTLQQGVPgNo9RJh4nXCYfk4XQjthCM4RGf4ACyjZNDMSwxNXC3NYLz7pl\"\n",
    "\n",
    "payload = {\n",
    "    'email': \"staneeeer@gmail.com\",\n",
    "    'pass': \"#Jajeczko9\"\n",
    "}\n",
    "\n",
    "POST_LOGIN_URL = \"https://mbasic.facebook.com/login.php?_rdr\""
   ]
  },
  {
   "cell_type": "code",
   "execution_count": 76,
   "metadata": {},
   "outputs": [],
   "source": [
    "def change_url(url: str, limit=100):\n",
    "    url_id = url.split('/')[5]\n",
    "    return f\"https://mbasic.facebook.com/ufi/reaction/profile/browser/fetch/?limit={limit}&total_count=17&ft_ent_identifier={url_id}\""
   ]
  },
  {
   "cell_type": "code",
   "execution_count": 77,
   "metadata": {},
   "outputs": [
    {
     "name": "stdout",
     "output_type": "stream",
     "text": [
      "<?xml version=\"1.0\" encoding=\"utf-8\"?>\n",
      "<!DOCTYPE html PUBLIC \"-//WAPFORUM//DTD XHTML Mobile 1.0//EN\" \"http://www.wapforum.org/DTD/xhtml-mobile10.dtd\"><html lang=\"pl\" xmlns=\"http://www.w3.org/1999/xhtml\"><head><title>Zaloguj się do Facebooka | Facebook</title><meta name=\"referrer\" content=\"default\" id=\"meta_referrer\" /><style type=\"text/css\" nonce=\"Vc1guso7\">/*<![CDATA[*/.q{margin-bottom:36px;}.n{padding:8px;}.i{padding-bottom:4px;padding-top:4px;}.by{padding-bottom:12px;padding-top:12px;}.bx{padding-left:4px;padding-right:4px;}.bp{padding-left:8px;padding-right:8px;}.bu{padding-top:12px;}.b .br{display:block;width:auto;}.b .br .bs,.b .br .bs:hover{background-color:#42b72a;color:#fff;height:44px;}.b .bm{display:block;margin-bottom:5px;margin-left:3%;margin-top:-3px;overflow:hidden;text-align:center;white-space:nowrap;width:94%;}.b .bm>span{display:inline-block;position:relative;}.b .bm>span:before,.b .bm>span:after{background:#ccd0d5;content:'';height:1px;position:absolute;top:50%;width:9999px;}.b .bm>span:before{margin-right:15px;right:100%;}.b .bm>span:after{left:100%;margin-left:15px;}.b .bn{color:#4b4f56;font-size:14px;}.b .bd{border:solid 1px #999;box-sizing:border-box;width:100%;}.b .k{border:0;border-collapse:collapse;margin:0;padding:0;width:100%;}.b .k tbody{vertical-align:top;}.b .k td{padding:0;}.b .k td.x{padding:4px;}.b .l{width:100%;}.m{background:#fa3e3e;}.o{color:#fff;}.b .o a,.b .o a:visited{color:#fff;font-weight:bold;}.b .o a:focus,.b .o a:hover{background:#1d2129;}.ca{color:#4b4f56;}.p{font-size:12px;line-height:16px;}.bz{font-size:16px;line-height:20px;}.bh{font-weight:normal;}.z{font-weight:bold;}.bo{text-align:center;}form{margin:0;border:0;}.w{margin:0;}.w li{display:block;list-style:none;}.b .cb{padding:0;}.b .x{padding:4px;}.b .ba{color:#8d949e;display:block;font-weight:bold;}.b .bc{padding:12px 8px;color:#1c1e21;}.bb{border:0;display:block;margin:0;padding:0;}.be{box-sizing:border-box;width:100%;}.b .bf{border:solid 1px #999;}.bi{appearance:none;background:none;display:inline-block;font-size:12px;height:28px;line-height:28px;margin:0;overflow:visible;padding:0 9px;text-align:center;vertical-align:top;white-space:nowrap;}.b .bi{border-radius:2px;}.bt,a.bt,.b a.bt,.b a.bt:visited{background-color:#f5f6f7;color:#4b4f56;}.b a.bt:hover,.b .bt:hover{background-color:#ebedf0;color:#4b4f56;}.b .bt{border:1px solid #bec3c9;}.bt[disabled]{color:#bec3c9;}.b .bt[disabled]:hover{background-color:#f5f6f7;color:#bec3c9;}.bl,a.bl,html .b a.bl{color:#fff;}.b .bl{background-color:#4267b2;border:1px solid #365899;}.b a.bl:hover,.b .bl:hover{background-color:#465e91;}.bl[disabled]{color:#899bc1;}.b .bl[disabled]:hover{background-color:#4267b2;}.bk{font-size:14px;height:44px;line-height:44px;padding:0 20px;}.b a.bi::after{content:'';display:inline-block;height:100%;vertical-align:middle;}.bi.bj{display:block;width:100%;}a.bi.bj,.b label.bi.bj{display:block;width:auto;}.b .bi{padding:0 8px;}.b a.bi{height:26px;line-height:26px;}.b .bk{padding:0 19px;}.b a.bk{font-size:14px;height:42px;line-height:42px;}.b a,.b a:visited{color:#3b5998;text-decoration:none;}.b a:focus,.b a:hover{background-color:#3b5998;color:#fff;}body{text-align:left;direction:ltr;}body,tr,input,textarea,button{font-family:sans-serif;}body,p,figure,h1,h2,h3,h4,h5,h6,ul,ol,li,dl,dd,dt{margin:0;padding:0;}h1,h2,h3,h4,h5,h6{font-size:1em;font-weight:bold;}ul,ol{list-style:none;}article,aside,figcaption,figure,footer,header,nav,section{display:block;}.e{background-color:#fff;}.g{background-color:#3b5998;}.r{background-color:#eceff5;}#page{position:relative;}.h{padding:2px 3px;}.cl{display:block;font-size:x-small;margin:-3px -3px 1px -3px;padding:3px;}.cg{display:block;margin:-3px -3px 1px -3px;}.cg .ci{font-size:x-small;padding:3px;text-align:left;width:100%;}.cm{border:1px solid #90949c;display:block;font-size:x-large;height:20px;line-height:18px;text-align:center;vertical-align:middle;width:20px;}.b .cd input,.b .cd input:visited,.b .cd a,.b .cd a:visited{color:#bec3c9;}.b .cd input:focus,.b .cd input:hover,.b .cd a:focus,.b .cd a:hover{background:#dadde1;color:#1d2129;}.cc{background-color:#444950;font-size:x-small;padding:7px 8px 8px;}.cf{color:#bec3c9;display:block;font-size:x-small;margin:-3px -3px 1px -3px;padding:3px;}.ch{appearance:none;background-color:transparent;border:0;display:inline;font-size:inherit;margin:0;padding:0;}.ch:hover{background-color:#3b5998;color:#fff;white-space:normal;}.cj{color:#3b5998;}.co{color:#fff;}body,tr,input,textarea,.f{font-size:medium;}.j{border:0;display:inline-block;vertical-align:top;}i.j u{position:absolute;width:0;height:0;overflow:hidden;}/*]]>*/</style><meta name=\"description\" content=\"Zaloguj si&#x119; do Facebooka, aby zacz&#x105;&#x107; udost&#x119;pnia&#x107; r&#xf3;&#x17c;ne rzeczy oraz &#x142;&#x105;czy&#x107; si&#x119; ze znajomymi, rodzin&#x105; i lud&#x17a;mi, kt&#xf3;rych znasz.\" /><meta property=\"og:site_name\" content=\"Facebook\" /><meta property=\"og:type\" content=\"website\" /><meta property=\"og:title\" content=\"Zaloguj si&#x119; do Facebooka | Facebook\" /><meta property=\"og:description\" content=\"Zaloguj si&#x119; do Facebooka, aby zacz&#x105;&#x107; udost&#x119;pnia&#x107; r&#xf3;&#x17c;ne rzeczy oraz &#x142;&#x105;czy&#x107; si&#x119; ze znajomymi, rodzin&#x105; i lud&#x17a;mi, kt&#xf3;rych znasz.\" /><meta property=\"og:image\" content=\"https://www.facebook.com/images/fb_icon_325x325.png\" /><meta property=\"og:url\" content=\"https://www.facebook.com/\" /><link rel=\"alternate\" media=\"only screen and (max-width: 640px)\" href=\"https://m.facebook.com/\" /><link rel=\"alternate\" media=\"handheld\" href=\"https://m.facebook.com/\" /><link rel=\"canonical\" href=\"https://www.facebook.com/login/\" /><link rel=\"manifest\" id=\"MANIFEST_LINK\" href=\"/data/manifest/\" crossorigin=\"use-credentials\" /></head><body tabindex=\"0\" class=\"b c d e\"><div class=\"f\"><div id=\"viewport\"><div class=\"g h\" id=\"header\"><h1 style=\"display:block;height:0;overflow:hidden;position:absolute;width:0;padding:0\">Facebook</h1><img src=\"https://static.xx.fbcdn.net/rsrc.php/v3/y8/r/k97pj8-or6s.png\" width=\"77\" height=\"16\" class=\"i j\" alt=\"facebook\" /></div><div id=\"objects_container\"><div class=\"e\" id=\"root\"><table class=\"k\"><tbody><tr><td class=\"l\"><div class=\"m n o\" style=\"display: none;\" id=\"login_error\"><div class=\"p\"></div></div><div class=\"q\"><div class=\"r s\"><div id=\"login_top_banner\"></div><div class=\"t\"><form method=\"post\" action=\"/login/device-based/regular/login/?refsrc=deprecated&amp;lwv=100&amp;refid=9\" class=\"u v\" id=\"login_form\" novalidate=\"1\"><input type=\"hidden\" name=\"lsd\" value=\"AVobwJuIiWc\" autocomplete=\"off\" /><input type=\"hidden\" name=\"jazoest\" value=\"21034\" autocomplete=\"off\" /><input type=\"hidden\" name=\"m_ts\" value=\"1702325312\" /><input type=\"hidden\" name=\"li\" value=\"QGx3Zcfk3JZ788Muvw-336aS\" /><input type=\"hidden\" name=\"try_number\" value=\"0\" /><input type=\"hidden\" name=\"unrecognized_tries\" value=\"0\" /><ul class=\"w x y\"><li class=\"x\"><span class=\"z ba\" id=\"u_0_0_Bn\">Numer telefonu lub adres e-mail</span><input autocorrect=\"off\" autocapitalize=\"off\" class=\"bb bc bd\" autocomplete=\"on\" id=\"m_login_email\" name=\"email\" type=\"text\" /></li><li class=\"x\"><div id=\"password_input_with_placeholder\"><span class=\"z ba\" id=\"u_0_1_vG\">Hasło</span><input autocorrect=\"off\" autocapitalize=\"off\" class=\"bb bc be bf\" autocomplete=\"on\" name=\"pass\" type=\"password\" /></div></li><li class=\"x\"><input value=\"Zaloguj si&#x119;\" type=\"submit\" name=\"login\" class=\"bg bh bi bj bk bl\" /></li></ul><div><div id=\"login_reg_separator\" class=\"bm\"><span class=\"bn\">lub</span></div><div class=\"bo bp\" id=\"signup_button_area\"><div class=\"bo bq br\" id=\"signup-button\" tabindex=\"0\"><input value=\"Utw&#xf3;rz nowe konto\" type=\"submit\" name=\"sign_up\" class=\"bg bh bi bs bk bt\" /></div></div></div><input type=\"hidden\" id=\"bi_xrwh\" name=\"bi_xrwh\" value=\"0\" /><input type=\"hidden\" id=\"scetoggle\" /><div></div><noscript><input type=\"hidden\" name=\"_fb_noscript\" value=\"true\" /></noscript></form><div><div class=\"bu bv\"><div class=\"bo bw\"><a class=\"bw\" tabindex=\"0\" href=\"/recover/initiate/?privacy_mutation_token=eyJ0eXBlIjowLCJjcmVhdGlvbl90aW1lIjoxNzAyMzI1MzEyLCJjYWxsc2l0ZV9pZCI6Mjg0Nzg1MTQ5MzQ1MzY5fQ%3D%3D&amp;c=https%3A%2F%2Fmbasic.facebook.com%2Flogin.php&amp;r&amp;cuid&amp;ars=facebook_login&amp;lwv=100&amp;refid=9\" id=\"forgot-password-link\">Nie pamiętasz hasła?</a></div></div><div style=\"padding-top: 42px\"><div><div></div><div class=\"bu\" style=\"text-align:center;\"><div class=\"bx by\"><span class=\"bz ca\"><ul class=\"w cb\"><li class=\"x bo\"></li><li class=\"x\"></li></ul></span></div></div></div></div></div></div></div></div></td></tr></tbody></table><div style=\"display:none\"></div><span><img src=\"https://facebook.com/security/hsts-pixel.gif?c=3.2\" width=\"0\" height=\"0\" style=\"display:none\" /></span></div></div><div><div class=\"cc\"><div class=\"cd\"><table class=\"k\"><tbody><tr><td class=\"l ce\" style=\"width:50%\"><b class=\"cf\">Polski</b><form method=\"post\" action=\"/intl/save_locale/?loc=sz_PL&amp;href=https%3A%2F%2Fmbasic.facebook.com%2Flogin.php&amp;index=2&amp;ls_ref=m_basic_locale_footer&amp;ref_component=mbasic_footer&amp;ref_page=XLoginController&amp;refid=9\" class=\"cg\"><input type=\"hidden\" name=\"lsd\" value=\"AVobwJuIiWc\" autocomplete=\"off\" /><input type=\"hidden\" name=\"jazoest\" value=\"21034\" autocomplete=\"off\" /><input value=\"&#x15b;l&#x14d;nsk&#x14f; g&#x14f;dka\" type=\"submit\" class=\"bg ch ci cj\" /></form><form method=\"post\" action=\"/intl/save_locale/?loc=pt_BR&amp;href=https%3A%2F%2Fmbasic.facebook.com%2Flogin.php&amp;index=4&amp;ls_ref=m_basic_locale_footer&amp;ref_component=mbasic_footer&amp;ref_page=XLoginController&amp;refid=9\" class=\"cg\"><input type=\"hidden\" name=\"lsd\" value=\"AVobwJuIiWc\" autocomplete=\"off\" /><input type=\"hidden\" name=\"jazoest\" value=\"21034\" autocomplete=\"off\" /><input value=\"Portugu&#xea;s (Brasil)\" type=\"submit\" class=\"bg ch ci cj\" /></form></td><td class=\"l ck\" style=\"width:50%\"><form method=\"post\" action=\"/intl/save_locale/?loc=en_US&amp;href=https%3A%2F%2Fmbasic.facebook.com%2Flogin.php&amp;index=1&amp;ls_ref=m_basic_locale_footer&amp;ref_component=mbasic_footer&amp;ref_page=XLoginController&amp;refid=9\" class=\"cg\"><input type=\"hidden\" name=\"lsd\" value=\"AVobwJuIiWc\" autocomplete=\"off\" /><input type=\"hidden\" name=\"jazoest\" value=\"21034\" autocomplete=\"off\" /><input value=\"English (US)\" type=\"submit\" class=\"bg ch ci cj\" /></form><form method=\"post\" action=\"/intl/save_locale/?loc=es_LA&amp;href=https%3A%2F%2Fmbasic.facebook.com%2Flogin.php&amp;index=3&amp;ls_ref=m_basic_locale_footer&amp;ref_component=mbasic_footer&amp;ref_page=XLoginController&amp;refid=9\" class=\"cg\"><input type=\"hidden\" name=\"lsd\" value=\"AVobwJuIiWc\" autocomplete=\"off\" /><input type=\"hidden\" name=\"jazoest\" value=\"21034\" autocomplete=\"off\" /><input value=\"Espa&#xf1;ol\" type=\"submit\" class=\"bg ch ci cj\" /></form><a class=\"cl\" href=\"/language/?next_uri=https%3A%2F%2Fmbasic.facebook.com%2Flogin.php&amp;ref_component=mbasic_footer&amp;ref_page=XLoginController&amp;refid=9\"><div class=\"cm\"> + </div></a></td></tr></tbody></table></div><span class=\"z cn co\">Meta © 2023</span></div></div></div></div></body></html>\n"
     ]
    }
   ],
   "source": [
    "with requests.Session() as session:\n",
    "    post = session.post(POST_LOGIN_URL, data=payload)\n",
    "    print(post.text)\n",
    "    page = requests.get(change_url(url))\n",
    "\n",
    "\n",
    "# with requests.Session() as session:\n",
    "#     login_page = session.get(POST_LOGIN_URL)\n",
    "#     login_soup = BeautifulSoup(login_page.content, 'html.parser')\n",
    "#     payload['lsd'] = login_soup.find()"
   ]
  },
  {
   "cell_type": "code",
   "execution_count": 78,
   "metadata": {},
   "outputs": [
    {
     "name": "stdout",
     "output_type": "stream",
     "text": [
      "<?xml version=\"1.0\" encoding=\"utf-8\"?>\n",
      "<!DOCTYPE html PUBLIC \"-//WAPFORUM//DTD XHTML Mobile 1.0//EN\" \"http://www.wapforum.org/DTD/xhtml-mobile10.dtd\">\n",
      "<html lang=\"pl\" xmlns=\"http://www.w3.org/1999/xhtml\">\n",
      " <head>\n",
      "  <title>\n",
      "   Błąd\n",
      "  </title>\n",
      "  <meta content=\"default\" id=\"meta_referrer\" name=\"referrer\"/>\n",
      "  <style nonce=\"M2hrGisT\" type=\"text/css\">\n",
      "   /*<![CDATA[*/.b .m{padding:4px;}.h{background-color:#3b5998;}.n{background-color:#ffebe8;color:#6d220d;}.i{padding:2px 3px;}.o{border-bottom:1px solid;}.h{border-color:#1d4088;}.n{border-color:#dd3c10;}.ca{color:#fff;}.p{font-size:small;}body,tr,input,textarea,.e{font-size:medium;}.q{background-color:#fff;border-bottom:1px solid;border-color:#ebedf0;padding:5px 8px 23px 8px;text-align:center;}.r{padding:20px;}.s{text-align:center;}.u{appearance:none;background:none;display:inline-block;font-size:12px;height:28px;line-height:28px;margin:0;overflow:visible;padding:0 9px;text-align:center;vertical-align:top;white-space:nowrap;}.b .u{border-radius:2px;}.y,.bj,a.y,a.bj,html .b a.y,html .b a.bj{color:#fff;}.b .bj{background-color:#4080ff;border:1px solid #4476e8;}.b a.bj:hover,.b .bj:hover{background-color:#4580ef;}.b .y{background-color:#4267b2;border:1px solid #365899;}.b a.y:hover,.b .y:hover{background-color:#465e91;}.y[disabled]{color:#899bc1;}.bj[disabled]{color:#91b4fd;}.b .y[disabled]:hover{background-color:#4267b2;}.b .bj[disabled]:hover{background-color:#4080ff;}.u .ba{display:inline-block;}.b .u .ba{display:inline-block;margin-top:0;vertical-align:middle;}.b a.u::after{content:'';display:inline-block;height:100%;vertical-align:middle;}.u .ba{line-height:20px;margin-top:4px;}.b .u{padding:0 8px;}.b a.u{height:26px;line-height:26px;}.ba{pointer-events:none;}.b a,.b a:visited{color:#3b5998;text-decoration:none;}.b a:focus,.b a:hover{background-color:#3b5998;color:#fff;}.z{font-weight:normal;}.by{font-weight:bold;}.bc{height:20px;}.bd{border-bottom:1px solid #ccd0d5;height:10px;text-align:center;width:100%;}.be{color:#4b4f56;font-size:12px;line-height:20px;padding:0 10px;}.bf{background-color:#fff;}body{text-align:left;direction:ltr;}body,tr,input,textarea,button{font-family:sans-serif;}body,p,figure,h1,h2,h3,h4,h5,h6,ul,ol,li,dl,dd,dt{margin:0;padding:0;}h1,h2,h3,h4,h5,h6{font-size:1em;font-weight:bold;}ul,ol{list-style:none;}article,aside,figcaption,figure,footer,header,nav,section{display:block;}.d{background:#f5f6f7;}.bk{background:#fff;}#page{position:relative;}.j{padding-bottom:4px;padding-top:4px;}.bw{display:block;font-size:x-small;margin:-3px -3px 1px -3px;padding:3px;}.br{display:block;margin:-3px -3px 1px -3px;}.br .bt{font-size:x-small;padding:3px;text-align:left;width:100%;}.bx{border:1px solid #90949c;display:block;font-size:x-large;height:20px;line-height:18px;text-align:center;vertical-align:middle;width:20px;}.b .bm input,.b .bm input:visited,.b .bm a,.b .bm a:visited{color:#bec3c9;}.b .bm input:focus,.b .bm input:hover,.b .bm a:focus,.b .bm a:hover{background:#dadde1;color:#1d2129;}.bl{background-color:#444950;font-size:x-small;padding:7px 8px 8px;}.bq{color:#bec3c9;display:block;font-size:x-small;margin:-3px -3px 1px -3px;padding:3px;}.b .bn{border:0;border-collapse:collapse;margin:0;padding:0;width:100%;}.b .bn tbody{vertical-align:top;}.b .bn td{padding:0;}.b .bn td.m{padding:4px;}.b .bo{width:100%;}form{margin:0;border:0;}.bs{appearance:none;background-color:transparent;border:0;display:inline;font-size:inherit;margin:0;padding:0;}.bs:hover{background-color:#3b5998;color:#fff;white-space:normal;}.bu{color:#3b5998;}.k{border:0;display:inline-block;vertical-align:top;}i.k u{position:absolute;width:0;height:0;overflow:hidden;}/*]]>*/\n",
      "  </style>\n",
      "  <meta content=\"Zaloguj się lub zarejestruj, aby wyświetlić\" property=\"og:title\"/>\n",
      "  <meta content=\"Zobacz posty, zdjęcia i nie tylko na Facebooku.\" property=\"og:description\"/>\n",
      "  <link crossorigin=\"use-credentials\" href=\"/data/manifest/\" id=\"MANIFEST_LINK\" rel=\"manifest\"/>\n",
      " </head>\n",
      " <body class=\"b c d\" tabindex=\"0\">\n",
      "  <div class=\"e\">\n",
      "   <div id=\"viewport\">\n",
      "    <div class=\"f g\" id=\"MChromeHeader\">\n",
      "     <div class=\"h i\" id=\"header\">\n",
      "      <h1 style=\"display:block;height:0;overflow:hidden;position:absolute;width:0;padding:0\">\n",
      "       Facebook\n",
      "      </h1>\n",
      "      <a href=\"/home.php\">\n",
      "       <img alt=\"facebook\" class=\"j k\" height=\"16\" src=\"https://static.xx.fbcdn.net/rsrc.php/v3/y8/r/k97pj8-or6s.png\" width=\"77\"/>\n",
      "      </a>\n",
      "     </div>\n",
      "    </div>\n",
      "    <div id=\"objects_container\">\n",
      "     <div class=\"d\" id=\"root\">\n",
      "      <div class=\"l m n i o\">\n",
      "       <span class=\"p\">\n",
      "        Zaloguj się, aby kontynuować\n",
      "       </span>\n",
      "       <br/>\n",
      "       Zaloguj się na swoje konto.\n",
      "      </div>\n",
      "      <div class=\"q\">\n",
      "       <div class=\"r\">\n",
      "        Dołącz do Facebooka lub zaloguj się, aby kontynuować.\n",
      "       </div>\n",
      "       <div class=\"s\">\n",
      "        <a class=\"t u v w x y z\" href=\"/r.php?next=https%3A%2F%2Fmbasic.facebook.com%2Fufi%2Freaction%2Fprofile%2Fbrowser%2Ffetch%2F%3Flimit%3D100%26total_count%3D17%26ft_ent_identifier%3Dpfbid0EjjpU413wTLQQGVPgNo9RJh4nXCYfk4XQjthCM4RGf4ACyjZNDMSwxNXC3NYLz7pl&amp;cid=104\" id=\"u_0_0_qf\">\n",
      "         <span class=\"ba\">\n",
      "          Dołącz\n",
      "         </span>\n",
      "        </a>\n",
      "        <div class=\"bb\">\n",
      "         <div class=\"bc\">\n",
      "          <div class=\"bd\">\n",
      "           <span class=\"be bf\">\n",
      "            lub\n",
      "           </span>\n",
      "          </div>\n",
      "         </div>\n",
      "        </div>\n",
      "        <a class=\"t u bg bh bi bj z\" href=\"https://mbasic.facebook.com/login.php?next=https%3A%2F%2Fmbasic.facebook.com%2Fufi%2Freaction%2Fprofile%2Fbrowser%2Ffetch%2F%3Flimit%3D100%26total_count%3D17%26ft_ent_identifier%3Dpfbid0EjjpU413wTLQQGVPgNo9RJh4nXCYfk4XQjthCM4RGf4ACyjZNDMSwxNXC3NYLz7pl&amp;ref=104&amp;refsrc=deprecated\" id=\"u_0_1_yu\">\n",
      "         <span class=\"ba\">\n",
      "          Zaloguj się\n",
      "         </span>\n",
      "        </a>\n",
      "       </div>\n",
      "      </div>\n",
      "      <div style=\"display:none\">\n",
      "      </div>\n",
      "      <span>\n",
      "       <img height=\"0\" src=\"https://facebook.com/security/hsts-pixel.gif?c=3.2\" style=\"display:none\" width=\"0\"/>\n",
      "      </span>\n",
      "     </div>\n",
      "    </div>\n",
      "    <div class=\"bk\">\n",
      "     <div class=\"bl\">\n",
      "      <div class=\"bm\">\n",
      "       <table class=\"bn\">\n",
      "        <tbody>\n",
      "         <tr>\n",
      "          <td class=\"bo bp\" style=\"width:50%\">\n",
      "           <b class=\"bq\">\n",
      "            Polski\n",
      "           </b>\n",
      "           <form action=\"/intl/save_locale/?loc=sz_PL&amp;href=https%3A%2F%2Fmbasic.facebook.com%2Fufi%2Freaction%2Fprofile%2Fbrowser%2Ffetch%2F%3Flimit%3D100%26total_count%3D17%26ft_ent_identifier%3Dpfbid0EjjpU413wTLQQGVPgNo9RJh4nXCYfk4XQjthCM4RGf4ACyjZNDMSwxNXC3NYLz7pl&amp;index=2&amp;ls_ref=m_basic_locale_footer&amp;ref_component=mbasic_footer&amp;ref_page=XUFIReactionProfileBrowserAsyncFetchController\" class=\"br\" method=\"post\">\n",
      "            <input autocomplete=\"off\" name=\"lsd\" type=\"hidden\" value=\"AVoZ40kkJOU\"/>\n",
      "            <input autocomplete=\"off\" name=\"jazoest\" type=\"hidden\" value=\"2904\"/>\n",
      "            <input class=\"t bs bt bu\" type=\"submit\" value=\"ślōnskŏ gŏdka\"/>\n",
      "           </form>\n",
      "           <form action=\"/intl/save_locale/?loc=pt_BR&amp;href=https%3A%2F%2Fmbasic.facebook.com%2Fufi%2Freaction%2Fprofile%2Fbrowser%2Ffetch%2F%3Flimit%3D100%26total_count%3D17%26ft_ent_identifier%3Dpfbid0EjjpU413wTLQQGVPgNo9RJh4nXCYfk4XQjthCM4RGf4ACyjZNDMSwxNXC3NYLz7pl&amp;index=4&amp;ls_ref=m_basic_locale_footer&amp;ref_component=mbasic_footer&amp;ref_page=XUFIReactionProfileBrowserAsyncFetchController\" class=\"br\" method=\"post\">\n",
      "            <input autocomplete=\"off\" name=\"lsd\" type=\"hidden\" value=\"AVoZ40kkJOU\"/>\n",
      "            <input autocomplete=\"off\" name=\"jazoest\" type=\"hidden\" value=\"2904\"/>\n",
      "            <input class=\"t bs bt bu\" type=\"submit\" value=\"Português (Brasil)\"/>\n",
      "           </form>\n",
      "          </td>\n",
      "          <td class=\"bo bv\" style=\"width:50%\">\n",
      "           <form action=\"/intl/save_locale/?loc=en_US&amp;href=https%3A%2F%2Fmbasic.facebook.com%2Fufi%2Freaction%2Fprofile%2Fbrowser%2Ffetch%2F%3Flimit%3D100%26total_count%3D17%26ft_ent_identifier%3Dpfbid0EjjpU413wTLQQGVPgNo9RJh4nXCYfk4XQjthCM4RGf4ACyjZNDMSwxNXC3NYLz7pl&amp;index=1&amp;ls_ref=m_basic_locale_footer&amp;ref_component=mbasic_footer&amp;ref_page=XUFIReactionProfileBrowserAsyncFetchController\" class=\"br\" method=\"post\">\n",
      "            <input autocomplete=\"off\" name=\"lsd\" type=\"hidden\" value=\"AVoZ40kkJOU\"/>\n",
      "            <input autocomplete=\"off\" name=\"jazoest\" type=\"hidden\" value=\"2904\"/>\n",
      "            <input class=\"t bs bt bu\" type=\"submit\" value=\"English (US)\"/>\n",
      "           </form>\n",
      "           <form action=\"/intl/save_locale/?loc=es_LA&amp;href=https%3A%2F%2Fmbasic.facebook.com%2Fufi%2Freaction%2Fprofile%2Fbrowser%2Ffetch%2F%3Flimit%3D100%26total_count%3D17%26ft_ent_identifier%3Dpfbid0EjjpU413wTLQQGVPgNo9RJh4nXCYfk4XQjthCM4RGf4ACyjZNDMSwxNXC3NYLz7pl&amp;index=3&amp;ls_ref=m_basic_locale_footer&amp;ref_component=mbasic_footer&amp;ref_page=XUFIReactionProfileBrowserAsyncFetchController\" class=\"br\" method=\"post\">\n",
      "            <input autocomplete=\"off\" name=\"lsd\" type=\"hidden\" value=\"AVoZ40kkJOU\"/>\n",
      "            <input autocomplete=\"off\" name=\"jazoest\" type=\"hidden\" value=\"2904\"/>\n",
      "            <input class=\"t bs bt bu\" type=\"submit\" value=\"Español\"/>\n",
      "           </form>\n",
      "           <a class=\"bw\" href=\"/language/?next_uri=https%3A%2F%2Fmbasic.facebook.com%2Fufi%2Freaction%2Fprofile%2Fbrowser%2Ffetch%2F%3Flimit%3D100%26total_count%3D17%26ft_ent_identifier%3Dpfbid0EjjpU413wTLQQGVPgNo9RJh4nXCYfk4XQjthCM4RGf4ACyjZNDMSwxNXC3NYLz7pl&amp;ref_component=mbasic_footer&amp;ref_page=XUFIReactionProfileBrowserAsyncFetchController\">\n",
      "            <div class=\"bx\">\n",
      "             +\n",
      "            </div>\n",
      "           </a>\n",
      "          </td>\n",
      "         </tr>\n",
      "        </tbody>\n",
      "       </table>\n",
      "      </div>\n",
      "      <span class=\"by bz ca\">\n",
      "       Meta © 2023\n",
      "      </span>\n",
      "     </div>\n",
      "    </div>\n",
      "   </div>\n",
      "  </div>\n",
      " </body>\n",
      "</html>\n"
     ]
    }
   ],
   "source": [
    "soup = BeautifulSoup(page.content, \"html.parser\")\n",
    "print(soup.prettify())"
   ]
  }
 ],
 "metadata": {
  "kernelspec": {
   "display_name": "Python 3",
   "language": "python",
   "name": "python3"
  },
  "language_info": {
   "codemirror_mode": {
    "name": "ipython",
    "version": 3
   },
   "file_extension": ".py",
   "mimetype": "text/x-python",
   "name": "python",
   "nbconvert_exporter": "python",
   "pygments_lexer": "ipython3",
   "version": "3.10.0"
  }
 },
 "nbformat": 4,
 "nbformat_minor": 2
}
