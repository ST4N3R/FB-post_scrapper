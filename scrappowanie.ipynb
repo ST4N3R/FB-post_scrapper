{
 "cells": [
  {
   "cell_type": "code",
   "execution_count": 107,
   "metadata": {},
   "outputs": [],
   "source": [
    "from bs4 import BeautifulSoup\n",
    "import requests"
   ]
  },
  {
   "cell_type": "code",
   "execution_count": 108,
   "metadata": {},
   "outputs": [],
   "source": [
    "url = \"https://www.facebook.com/234Forteca/posts/pfbid0EZapAujK7oyJBM5ZkosLHXUMLpVNJGDSLXDkjnEF8n4UQHdicMNq8ZVvG5esUZ5Ll\"\n",
    "\n",
    "payload = {\n",
    "    'email': \"staneeeer@gmail.com\",\n",
    "    'pass': \"#Jajeczko9\"\n",
    "}\n",
    "\n",
    "POST_LOGIN_URL = 'http://m.facebook.com'\n",
    "\n",
    "headers = {'User-Agent': 'Chrome/91.0.4472.124'}"
   ]
  },
  {
   "cell_type": "code",
   "execution_count": 109,
   "metadata": {},
   "outputs": [],
   "source": [
    "def change_url(url: str, limit=17):\n",
    "    url_id = url.split('/')[5]\n",
    "    return f\"https://mbasic.facebook.com/ufi/reaction/profile/browser/fetch/?limit={limit}&total_count=17&ft_ent_identifier={url_id}\""
   ]
  },
  {
   "cell_type": "code",
   "execution_count": 110,
   "metadata": {},
   "outputs": [
    {
     "name": "stdout",
     "output_type": "stream",
     "text": [
      "<RequestsCookieJar[<Cookie datr=GxB-ZVzsj877g1xocY8-Z9Ua for .facebook.com/>, <Cookie sb=GxB-ZTqq0Z-drB_DFHoztK2t for .facebook.com/>]>\n"
     ]
    }
   ],
   "source": [
    "with requests.Session() as session:\n",
    "    temp = session.get(POST_LOGIN_URL)\n",
    "    soup = BeautifulSoup(temp.content, \"html.parser\")\n",
    "\n",
    "    payload['lsd'] = soup.find('input', {'name': 'lsd'})['value']\n",
    "    payload['jazoest'] = soup.find('input', {'name': 'jazoest'})['value']\n",
    "    payload['m_ts'] = soup.find('input', {'name': 'm_ts'})['value']\n",
    "    payload['li'] = soup.find('input', {'name': 'li'})['value']\n",
    "    payload['try_number'] = soup.find('input', {'name': 'try_number'})['value']\n",
    "    payload['unrecognized_tires'] = soup.find('input', {'name': 'unrecognized_tries'})['value']\n",
    "    payload['bi_xrwh'] = soup.find('input', {'name': 'bi_xrwh'})['value']\n",
    "    payload['_fb_noscript'] = soup.find('input', {'name': '_fb_noscript'})['value']\n",
    "    temp_2 = session.post(POST_LOGIN_URL, data=payload)\n",
    "\n",
    "    url_correct = \"https://mbasic.facebook.com/ufi/reaction/profile/browser/fetch/?limit=30&total_count=17&ft_ent_identifier=pfbid02JHP1PDdQnghuwgb9BH9iVEhyiGFNmNn3ApfHpasp41jGiovFsQEKjzLgTmKLqfQil\"\n",
    "    cookies = dict(BCPermissionLevel='PERSONAL')\n",
    "\n",
    "    page = session.get(url_correct, cookies=cookies, headers=headers)\n",
    "    print(temp.cookies)"
   ]
  },
  {
   "cell_type": "code",
   "execution_count": 111,
   "metadata": {},
   "outputs": [
    {
     "name": "stdout",
     "output_type": "stream",
     "text": [
      "<input autocomplete=\"off\" name=\"lsd\" type=\"hidden\" value=\"AVr1m4J94oE\"/>\n",
      "<input autocomplete=\"off\" name=\"jazoest\" type=\"hidden\" value=\"2838\"/>\n",
      "<input name=\"m_ts\" type=\"hidden\" value=\"1702760475\"/>\n",
      "<input name=\"li\" type=\"hidden\" value=\"GxB-ZXY_etk9rQG2yM2msdNq\"/>\n",
      "<input name=\"try_number\" type=\"hidden\" value=\"0\"/>\n",
      "<input name=\"unrecognized_tries\" type=\"hidden\" value=\"0\"/>\n",
      "<input autocapitalize=\"off\" autocomplete=\"on\" autocorrect=\"off\" class=\"bb bc bd\" id=\"m_login_email\" name=\"email\" type=\"text\"/>\n",
      "<input autocapitalize=\"off\" autocomplete=\"on\" autocorrect=\"off\" class=\"bb bc be bf\" name=\"pass\" type=\"password\"/>\n",
      "<input class=\"bg bh bi bj bk bl\" name=\"login\" type=\"submit\" value=\"Zaloguj się\"/>\n",
      "<input class=\"bg bh bi bs bk bt\" name=\"sign_up\" type=\"submit\" value=\"Utwórz nowe konto\"/>\n",
      "<input id=\"bi_xrwh\" name=\"bi_xrwh\" type=\"hidden\" value=\"0\"/>\n",
      "<input id=\"scetoggle\" type=\"hidden\"/>\n",
      "<input name=\"_fb_noscript\" type=\"hidden\" value=\"true\"/>\n",
      "<input autocomplete=\"off\" name=\"lsd\" type=\"hidden\" value=\"AVr1m4J94oE\"/>\n",
      "<input autocomplete=\"off\" name=\"jazoest\" type=\"hidden\" value=\"2838\"/>\n",
      "<input class=\"bg ch ci cj\" type=\"submit\" value=\"ślōnskŏ gŏdka\"/>\n",
      "<input autocomplete=\"off\" name=\"lsd\" type=\"hidden\" value=\"AVr1m4J94oE\"/>\n",
      "<input autocomplete=\"off\" name=\"jazoest\" type=\"hidden\" value=\"2838\"/>\n",
      "<input class=\"bg ch ci cj\" type=\"submit\" value=\"Português (Brasil)\"/>\n",
      "<input autocomplete=\"off\" name=\"lsd\" type=\"hidden\" value=\"AVr1m4J94oE\"/>\n",
      "<input autocomplete=\"off\" name=\"jazoest\" type=\"hidden\" value=\"2838\"/>\n",
      "<input class=\"bg ch ci cj\" type=\"submit\" value=\"English (US)\"/>\n",
      "<input autocomplete=\"off\" name=\"lsd\" type=\"hidden\" value=\"AVr1m4J94oE\"/>\n",
      "<input autocomplete=\"off\" name=\"jazoest\" type=\"hidden\" value=\"2838\"/>\n",
      "<input class=\"bg ch ci cj\" type=\"submit\" value=\"Español\"/>\n"
     ]
    }
   ],
   "source": [
    "soup_3 = BeautifulSoup(temp_2.content, \"html.parser\")\n",
    "lol = soup_3.find_all('input')\n",
    "for l in lol:\n",
    "    print(l)"
   ]
  },
  {
   "cell_type": "code",
   "execution_count": 112,
   "metadata": {},
   "outputs": [
    {
     "name": "stdout",
     "output_type": "stream",
     "text": [
      "<?xml version=\"1.0\" encoding=\"utf-8\"?>\n",
      "<!DOCTYPE html PUBLIC \"-//WAPFORUM//DTD XHTML Mobile 1.0//EN\" \"http://www.wapforum.org/DTD/xhtml-mobile10.dtd\">\n",
      "<html lang=\"pl\" xmlns=\"http://www.w3.org/1999/xhtml\"><head><title>Błąd</title><meta content=\"default\" id=\"meta_referrer\" name=\"referrer\"/><style nonce=\"4TZoe1Ib\" type=\"text/css\">/*<![CDATA[*/.b .m{padding:4px;}.h{background-color:#3b5998;}.n{background-color:#ffebe8;color:#6d220d;}.i{padding:2px 3px;}.o{border-bottom:1px solid;}.h{border-color:#1d4088;}.n{border-color:#dd3c10;}.ca{color:#fff;}.p{font-size:small;}body,tr,input,textarea,.e{font-size:medium;}.q{background-color:#fff;border-bottom:1px solid;border-color:#ebedf0;padding:5px 8px 23px 8px;text-align:center;}.r{padding:20px;}.s{text-align:center;}.u{appearance:none;background:none;display:inline-block;font-size:12px;height:28px;line-height:28px;margin:0;overflow:visible;padding:0 9px;text-align:center;vertical-align:top;white-space:nowrap;}.b .u{border-radius:2px;}.y,.bj,a.y,a.bj,html .b a.y,html .b a.bj{color:#fff;}.b .bj{background-color:#4080ff;border:1px solid #4476e8;}.b a.bj:hover,.b .bj:hover{background-color:#4580ef;}.b .y{background-color:#4267b2;border:1px solid #365899;}.b a.y:hover,.b .y:hover{background-color:#465e91;}.y[disabled]{color:#899bc1;}.bj[disabled]{color:#91b4fd;}.b .y[disabled]:hover{background-color:#4267b2;}.b .bj[disabled]:hover{background-color:#4080ff;}.u .ba{display:inline-block;}.b .u .ba{display:inline-block;margin-top:0;vertical-align:middle;}.b a.u::after{content:'';display:inline-block;height:100%;vertical-align:middle;}.u .ba{line-height:20px;margin-top:4px;}.b .u{padding:0 8px;}.b a.u{height:26px;line-height:26px;}.ba{pointer-events:none;}.b a,.b a:visited{color:#3b5998;text-decoration:none;}.b a:focus,.b a:hover{background-color:#3b5998;color:#fff;}.z{font-weight:normal;}.by{font-weight:bold;}.bc{height:20px;}.bd{border-bottom:1px solid #ccd0d5;height:10px;text-align:center;width:100%;}.be{color:#4b4f56;font-size:12px;line-height:20px;padding:0 10px;}.bf{background-color:#fff;}body{text-align:left;direction:ltr;}body,tr,input,textarea,button{font-family:sans-serif;}body,p,figure,h1,h2,h3,h4,h5,h6,ul,ol,li,dl,dd,dt{margin:0;padding:0;}h1,h2,h3,h4,h5,h6{font-size:1em;font-weight:bold;}ul,ol{list-style:none;}article,aside,figcaption,figure,footer,header,nav,section{display:block;}.d{background:#f5f6f7;}.bk{background:#fff;}#page{position:relative;}.j{padding-bottom:4px;padding-top:4px;}.bw{display:block;font-size:x-small;margin:-3px -3px 1px -3px;padding:3px;}.br{display:block;margin:-3px -3px 1px -3px;}.br .bt{font-size:x-small;padding:3px;text-align:left;width:100%;}.bx{border:1px solid #90949c;display:block;font-size:x-large;height:20px;line-height:18px;text-align:center;vertical-align:middle;width:20px;}.b .bm input,.b .bm input:visited,.b .bm a,.b .bm a:visited{color:#bec3c9;}.b .bm input:focus,.b .bm input:hover,.b .bm a:focus,.b .bm a:hover{background:#dadde1;color:#1d2129;}.bl{background-color:#444950;font-size:x-small;padding:7px 8px 8px;}.bq{color:#bec3c9;display:block;font-size:x-small;margin:-3px -3px 1px -3px;padding:3px;}.b .bn{border:0;border-collapse:collapse;margin:0;padding:0;width:100%;}.b .bn tbody{vertical-align:top;}.b .bn td{padding:0;}.b .bn td.m{padding:4px;}.b .bo{width:100%;}form{margin:0;border:0;}.bs{appearance:none;background-color:transparent;border:0;display:inline;font-size:inherit;margin:0;padding:0;}.bs:hover{background-color:#3b5998;color:#fff;white-space:normal;}.bu{color:#3b5998;}.k{border:0;display:inline-block;vertical-align:top;}i.k u{position:absolute;width:0;height:0;overflow:hidden;}/*]]>*/</style><meta content=\"Zaloguj się lub zarejestruj, aby wyświetlić\" property=\"og:title\"/><meta content=\"Zobacz posty, zdjęcia i nie tylko na Facebooku.\" property=\"og:description\"/><link crossorigin=\"use-credentials\" href=\"/data/manifest/\" id=\"MANIFEST_LINK\" rel=\"manifest\"/></head><body class=\"b c d\" tabindex=\"0\"><div class=\"e\"><div id=\"viewport\"><div class=\"f g\" id=\"MChromeHeader\"><div class=\"h i\" id=\"header\"><h1 style=\"display:block;height:0;overflow:hidden;position:absolute;width:0;padding:0\">Facebook</h1><a href=\"/home.php\"><img alt=\"facebook\" class=\"j k\" height=\"16\" src=\"https://static.xx.fbcdn.net/rsrc.php/v3/y8/r/k97pj8-or6s.png\" width=\"77\"/></a></div></div><div id=\"objects_container\"><div class=\"d\" id=\"root\"><div class=\"l m n i o\"><span class=\"p\">Zaloguj się, aby kontynuować</span><br/>Zaloguj się na swoje konto.</div><div class=\"q\"><div class=\"r\">Dołącz do Facebooka lub zaloguj się, aby kontynuować.</div><div class=\"s\"><a class=\"t u v w x y z\" href=\"/r.php?next=https%3A%2F%2Fmbasic.facebook.com%2Fufi%2Freaction%2Fprofile%2Fbrowser%2Ffetch%2F%3Flimit%3D30%26total_count%3D17%26ft_ent_identifier%3Dpfbid02JHP1PDdQnghuwgb9BH9iVEhyiGFNmNn3ApfHpasp41jGiovFsQEKjzLgTmKLqfQil&amp;cid=104\" id=\"u_0_0_a9\"><span class=\"ba\">Dołącz</span></a><div class=\"bb\"><div class=\"bc\"><div class=\"bd\"><span class=\"be bf\">lub</span></div></div></div><a class=\"t u bg bh bi bj z\" href=\"https://mbasic.facebook.com/login.php?next=https%3A%2F%2Fmbasic.facebook.com%2Fufi%2Freaction%2Fprofile%2Fbrowser%2Ffetch%2F%3Flimit%3D30%26total_count%3D17%26ft_ent_identifier%3Dpfbid02JHP1PDdQnghuwgb9BH9iVEhyiGFNmNn3ApfHpasp41jGiovFsQEKjzLgTmKLqfQil&amp;ref=104&amp;refsrc=deprecated\" id=\"u_0_1_EC\"><span class=\"ba\">Zaloguj się</span></a></div></div><div style=\"display:none\"></div><span><img height=\"0\" src=\"https://facebook.com/security/hsts-pixel.gif?c=3.2\" style=\"display:none\" width=\"0\"/></span></div></div><div class=\"bk\"><div class=\"bl\"><div class=\"bm\"><table class=\"bn\"><tbody><tr><td class=\"bo bp\" style=\"width:50%\"><b class=\"bq\">Polski</b><form action=\"/intl/save_locale/?loc=sz_PL&amp;href=https%3A%2F%2Fmbasic.facebook.com%2Fufi%2Freaction%2Fprofile%2Fbrowser%2Ffetch%2F%3Flimit%3D30%26total_count%3D17%26ft_ent_identifier%3Dpfbid02JHP1PDdQnghuwgb9BH9iVEhyiGFNmNn3ApfHpasp41jGiovFsQEKjzLgTmKLqfQil&amp;index=2&amp;ls_ref=m_basic_locale_footer&amp;ref_component=mbasic_footer&amp;ref_page=XUFIReactionProfileBrowserAsyncFetchController\" class=\"br\" method=\"post\"><input autocomplete=\"off\" name=\"lsd\" type=\"hidden\" value=\"AVr1m4J9qP0\"/><input autocomplete=\"off\" name=\"jazoest\" type=\"hidden\" value=\"2847\"/><input class=\"t bs bt bu\" type=\"submit\" value=\"ślōnskŏ gŏdka\"/></form><form action=\"/intl/save_locale/?loc=pt_BR&amp;href=https%3A%2F%2Fmbasic.facebook.com%2Fufi%2Freaction%2Fprofile%2Fbrowser%2Ffetch%2F%3Flimit%3D30%26total_count%3D17%26ft_ent_identifier%3Dpfbid02JHP1PDdQnghuwgb9BH9iVEhyiGFNmNn3ApfHpasp41jGiovFsQEKjzLgTmKLqfQil&amp;index=4&amp;ls_ref=m_basic_locale_footer&amp;ref_component=mbasic_footer&amp;ref_page=XUFIReactionProfileBrowserAsyncFetchController\" class=\"br\" method=\"post\"><input autocomplete=\"off\" name=\"lsd\" type=\"hidden\" value=\"AVr1m4J9qP0\"/><input autocomplete=\"off\" name=\"jazoest\" type=\"hidden\" value=\"2847\"/><input class=\"t bs bt bu\" type=\"submit\" value=\"Português (Brasil)\"/></form></td><td class=\"bo bv\" style=\"width:50%\"><form action=\"/intl/save_locale/?loc=en_US&amp;href=https%3A%2F%2Fmbasic.facebook.com%2Fufi%2Freaction%2Fprofile%2Fbrowser%2Ffetch%2F%3Flimit%3D30%26total_count%3D17%26ft_ent_identifier%3Dpfbid02JHP1PDdQnghuwgb9BH9iVEhyiGFNmNn3ApfHpasp41jGiovFsQEKjzLgTmKLqfQil&amp;index=1&amp;ls_ref=m_basic_locale_footer&amp;ref_component=mbasic_footer&amp;ref_page=XUFIReactionProfileBrowserAsyncFetchController\" class=\"br\" method=\"post\"><input autocomplete=\"off\" name=\"lsd\" type=\"hidden\" value=\"AVr1m4J9qP0\"/><input autocomplete=\"off\" name=\"jazoest\" type=\"hidden\" value=\"2847\"/><input class=\"t bs bt bu\" type=\"submit\" value=\"English (US)\"/></form><form action=\"/intl/save_locale/?loc=es_LA&amp;href=https%3A%2F%2Fmbasic.facebook.com%2Fufi%2Freaction%2Fprofile%2Fbrowser%2Ffetch%2F%3Flimit%3D30%26total_count%3D17%26ft_ent_identifier%3Dpfbid02JHP1PDdQnghuwgb9BH9iVEhyiGFNmNn3ApfHpasp41jGiovFsQEKjzLgTmKLqfQil&amp;index=3&amp;ls_ref=m_basic_locale_footer&amp;ref_component=mbasic_footer&amp;ref_page=XUFIReactionProfileBrowserAsyncFetchController\" class=\"br\" method=\"post\"><input autocomplete=\"off\" name=\"lsd\" type=\"hidden\" value=\"AVr1m4J9qP0\"/><input autocomplete=\"off\" name=\"jazoest\" type=\"hidden\" value=\"2847\"/><input class=\"t bs bt bu\" type=\"submit\" value=\"Español\"/></form><a class=\"bw\" href=\"/language/?next_uri=https%3A%2F%2Fmbasic.facebook.com%2Fufi%2Freaction%2Fprofile%2Fbrowser%2Ffetch%2F%3Flimit%3D30%26total_count%3D17%26ft_ent_identifier%3Dpfbid02JHP1PDdQnghuwgb9BH9iVEhyiGFNmNn3ApfHpasp41jGiovFsQEKjzLgTmKLqfQil&amp;ref_component=mbasic_footer&amp;ref_page=XUFIReactionProfileBrowserAsyncFetchController\"><div class=\"bx\"> + </div></a></td></tr></tbody></table></div><span class=\"by bz ca\">Meta © 2023</span></div></div></div></div></body></html>\n"
     ]
    }
   ],
   "source": [
    "soup_2 = BeautifulSoup(page.content, \"html.parser\")\n",
    "print(soup_2)"
   ]
  }
 ],
 "metadata": {
  "kernelspec": {
   "display_name": "Python 3",
   "language": "python",
   "name": "python3"
  },
  "language_info": {
   "codemirror_mode": {
    "name": "ipython",
    "version": 3
   },
   "file_extension": ".py",
   "mimetype": "text/x-python",
   "name": "python",
   "nbconvert_exporter": "python",
   "pygments_lexer": "ipython3",
   "version": "3.10.0"
  }
 },
 "nbformat": 4,
 "nbformat_minor": 2
}
